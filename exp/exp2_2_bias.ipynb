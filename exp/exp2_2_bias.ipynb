{
 "cells": [
  {
   "cell_type": "code",
   "execution_count": 1,
   "id": "75750720-6a58-449b-8b50-ef4b89b5aaac",
   "metadata": {},
   "outputs": [
    {
     "name": "stdout",
     "output_type": "stream",
     "text": [
      "env: CUBLAS_WORKSPACE_CONFIG=:4096:8\n",
      "PyTorch version: 2.0.1\n",
      "PyTorch device: cuda\n"
     ]
    }
   ],
   "source": [
    "import sys\n",
    "sys.path.append('../src')\n",
    "\n",
    "import pickle\n",
    "\n",
    "import torch\n",
    "import torch.nn.functional as F\n",
    "import random\n",
    "\n",
    "from cf_explainer.gcn_conv import GCNConv\n",
    "from torch.nn import Linear, Sequential, BatchNorm1d, ReLU\n",
    "import torch_geometric\n",
    "from torch_geometric.explain import Explainer\n",
    "from torch_geometric.nn import SAGEConv, GATConv, GINConv, GIN\n",
    "from cf_explainer import C2Explainer\n",
    "from cf_explainer.utils import seed_everything\n",
    "\n",
    "import numpy as np\n",
    "\n",
    "import networkx as nx\n",
    "from pyvis.network import Network\n",
    "\n",
    "from tqdm.auto import tqdm\n",
    "\n",
    "import pickle\n",
    "\n",
    "'''Config parameters'''\n",
    "use_cuda_if_available = True\n",
    "device = torch.device('cuda' if torch.cuda.is_available() and use_cuda_if_available else 'cpu')\n",
    "\n",
    "# seed_everything(42, deterministic=True)\n",
    "# if error when setting use_deterministic_algorithms(True)\n",
    "# try this:\n",
    "%env CUBLAS_WORKSPACE_CONFIG=:4096:8\n",
    "\n",
    "print(\"PyTorch version:\", torch.__version__)\n",
    "print(\"PyTorch device:\", device)"
   ]
  },
  {
   "cell_type": "code",
   "execution_count": 2,
   "id": "e638ff49-64f2-4968-9206-7b1bf8183505",
   "metadata": {
    "tags": []
   },
   "outputs": [],
   "source": [
    "def results(num_perturbs, prop_perturbs):\n",
    "    print(\"######\")\n",
    "    if len(num_perturbs) != 0:\n",
    "        size = sum(num_perturbs)/(2*len(num_perturbs))\n",
    "        prop = sum(prop_perturbs)/len(prop_perturbs)\n",
    "    else:\n",
    "        size = \"N/A\"\n",
    "        prop = \"N/A\"\n",
    "    print(f\"size: {size}, num_success: {len(num_perturbs)}, prop_perturbs: {prop}\")\n",
    "    print(\"finished\")\n",
    "    return size, prop\n",
    "\n",
    "\n",
    "def explaine(model, data, explainer, seed=42):\n",
    "    seed_everything(seed, deterministic=True)\n",
    "    result = []\n",
    "    \n",
    "    condition = (data.test_mask.cpu() | data.val_mask.cpu())\n",
    "    df_cf = np.where(condition)[0].tolist()\n",
    "\n",
    "    print(len(df_cf))\n",
    "    \n",
    "    explainer = Explainer(\n",
    "        model=model,\n",
    "        algorithm=explainer,\n",
    "        explanation_type='model',\n",
    "        node_mask_type=None,\n",
    "        edge_mask_type='object',\n",
    "        model_config=dict(\n",
    "            mode='multiclass_classification',\n",
    "            task_level='node',\n",
    "            return_type='raw',\n",
    "        ), \n",
    "    )\n",
    "    \n",
    "    # cfs = []\n",
    "    num_perturbs = []\n",
    "    prop_perturbs = []\n",
    "\n",
    "    for i in tqdm(df_cf):\n",
    "        explanation = explainer(data.x, data.edge_index, index=i)\n",
    "        \n",
    "        if hasattr(explanation, \"perturbs\"):\n",
    "            if explanation.perturbs < 20:\n",
    "                # cfs.append(explanation.cf)\n",
    "                num_perturbs.append(explanation.perturbs)\n",
    "                prop_perturbs.append(explanation.prop_perturbs)\n",
    "    \n",
    "    size, prop = results(num_perturbs, prop_perturbs)\n",
    "    \n",
    "    result.append([len(df_cf), size, len(num_perturbs), prop])\n",
    "    print(f\"Fedility: {len(num_perturbs)/len(df_cf)}, Num_perturbs: {size}, Similarity: {1-prop}\")\n",
    "    return result"
   ]
  },
  {
   "cell_type": "markdown",
   "id": "2495415b-f156-4654-be64-3d879b975048",
   "metadata": {},
   "source": [
    "# LoanDecision"
   ]
  },
  {
   "cell_type": "code",
   "execution_count": 3,
   "id": "3c01a388-d22a-4356-a3e6-f09c57224bed",
   "metadata": {},
   "outputs": [
    {
     "name": "stderr",
     "output_type": "stream",
     "text": [
      "/home/ymmt4090no1/miniconda3/envs/pyg/lib/python3.10/site-packages/torch/_utils.py:776: UserWarning: TypedStorage is deprecated. It will be removed in the future and UntypedStorage will be the only storage class. This should only matter to you if you are using storages directly.  To access UntypedStorage directly, use tensor.untyped_storage() instead of tensor.storage()\n",
      "  return self.fget.__get__(instance, owner)()\n"
     ]
    },
    {
     "data": {
      "text/plain": [
       "Data(edge_index=[2, 3950], num_nodes=1000, x=[1000, 2], y=[1000], train_mask=[1000], val_mask=[1000], test_mask=[1000])"
      ]
     },
     "execution_count": 3,
     "metadata": {},
     "output_type": "execute_result"
    }
   ],
   "source": [
    "class GCN(torch.nn.Module):\n",
    "    def __init__(self, nhid, nout, dropout):\n",
    "        super().__init__()\n",
    "        self.conv1 = GCNConv(2, nhid, normalize=True)\n",
    "        self.conv2 = GCNConv(nhid, nhid, normalize=True)\n",
    "        self.conv3 = GCNConv(nhid, nout, normalize=True)\n",
    "        self.lin1 = Linear(nout, nout)\n",
    "        self.lin2 = Linear(nout,2)\n",
    "        self.dropout = dropout\n",
    "\n",
    "    def forward(self, x, edge_index, edge_weight=None):\n",
    "        x = self.conv1(x, edge_index, edge_weight)\n",
    "        x = x.relu()\n",
    "        x = F.dropout(x, p=self.dropout, training=self.training)\n",
    "        x = self.conv2(x, edge_index, edge_weight)\n",
    "        x = x.relu()\n",
    "        x = F.dropout(x, p=self.dropout, training=self.training)\n",
    "        x = self.conv3(x, edge_index, edge_weight)\n",
    "        x = self.lin1(x)\n",
    "        x = x.relu()\n",
    "        x = F.dropout(x, p=self.dropout, training=self.training)\n",
    "        x = self.lin2(x)\n",
    "        return x\n",
    "    \n",
    "model = GCN(nhid=100, nout=20, dropout=0).to(device)\n",
    "model.load_state_dict(torch.load(\"../models/GCN_LoanDecision_sd.pt\", weights_only=True))\n",
    "\n",
    "with open(\"../data/LoanDecision.pickle\", \"rb\") as f:\n",
    "\tdata = pickle.load(f)\n",
    "    \n",
    "data"
   ]
  },
  {
   "cell_type": "code",
   "execution_count": 4,
   "id": "b139e14f-1403-48df-9f50-61931327e178",
   "metadata": {
    "tags": []
   },
   "outputs": [
    {
     "name": "stdout",
     "output_type": "stream",
     "text": [
      "118\n"
     ]
    },
    {
     "data": {
      "application/vnd.jupyter.widget-view+json": {
       "model_id": "5b6a1e05d5314a6f81d80e85c634f466",
       "version_major": 2,
       "version_minor": 0
      },
      "text/plain": [
       "  0%|          | 0/118 [00:00<?, ?it/s]"
      ]
     },
     "metadata": {},
     "output_type": "display_data"
    },
    {
     "name": "stdout",
     "output_type": "stream",
     "text": [
      "######\n",
      "size: 1.4516129032258065, num_success: 93, prop_perturbs: 0.007129633333534002\n",
      "finished\n",
      "Fedility: 0.788135593220339, Num_perturbs: 1.4516129032258065, Similarity: 0.9928703904151917\n"
     ]
    }
   ],
   "source": [
    "def explain(model, data, explainer, seed=42):\n",
    "    seed_everything(seed, deterministic=True)\n",
    "    result = []\n",
    "    \n",
    "    ###\n",
    "    # only gender = 1\n",
    "    condition = ((data.test_mask.cpu() | data.val_mask.cpu()) & data.x[:,1].to(bool).cpu())\n",
    "    ###\n",
    "    df_cf = np.where(condition)[0].tolist()\n",
    "\n",
    "    print(len(df_cf))\n",
    "    \n",
    "    explainer = Explainer(\n",
    "        model=model,\n",
    "        algorithm=explainer,\n",
    "        explanation_type='model',\n",
    "        node_mask_type=None,\n",
    "        edge_mask_type='object',\n",
    "        model_config=dict(\n",
    "            mode='multiclass_classification',\n",
    "            task_level='node',\n",
    "            return_type='raw',\n",
    "        ), \n",
    "    )\n",
    "    \n",
    "    # cfs = []\n",
    "    num_perturbs = []\n",
    "    prop_perturbs = []\n",
    "\n",
    "    for i in tqdm(df_cf):\n",
    "        explanation = explainer(data.x, data.edge_index, index=i)\n",
    "        \n",
    "        if hasattr(explanation, \"perturbs\"):\n",
    "            if explanation.perturbs < 20:\n",
    "                # cfs.append(explanation.cf)\n",
    "                num_perturbs.append(explanation.perturbs)\n",
    "                prop_perturbs.append(explanation.prop_perturbs)\n",
    "    \n",
    "    size, prop = results(num_perturbs, prop_perturbs)\n",
    "    \n",
    "    result.append([len(df_cf), size, len(num_perturbs), prop])\n",
    "    print(f\"Fedility: {len(num_perturbs)/len(df_cf)}, Num_perturbs: {size}, Similarity: {1-prop}\")\n",
    "    return result\n",
    "\n",
    "explainer = C2Explainer(epochs=1000, lr=0.001, silent_mode=True, undirected=True, AR_mode=True)\n",
    "result4 = explain(model, data, explainer, seed=42)"
   ]
  },
  {
   "cell_type": "code",
   "execution_count": 5,
   "id": "be414315-5aab-4384-865c-a774d3affd79",
   "metadata": {
    "tags": []
   },
   "outputs": [
    {
     "name": "stdout",
     "output_type": "stream",
     "text": [
      "82\n"
     ]
    },
    {
     "data": {
      "application/vnd.jupyter.widget-view+json": {
       "model_id": "e20683a9da194a36ae3478945fbe9082",
       "version_major": 2,
       "version_minor": 0
      },
      "text/plain": [
       "  0%|          | 0/82 [00:00<?, ?it/s]"
      ]
     },
     "metadata": {},
     "output_type": "display_data"
    },
    {
     "name": "stdout",
     "output_type": "stream",
     "text": [
      "######\n",
      "size: 1.7846153846153847, num_success: 65, prop_perturbs: 0.012691770680248737\n",
      "finished\n",
      "Fedility: 0.7926829268292683, Num_perturbs: 1.7846153846153847, Similarity: 0.9873082041740417\n"
     ]
    }
   ],
   "source": [
    "def explain(model, data, explainer, seed=42):\n",
    "    seed_everything(seed, deterministic=True)\n",
    "    result = []\n",
    "    \n",
    "    ###\n",
    "    # only gender = 0\n",
    "    condition = ((data.test_mask.cpu() | data.val_mask.cpu()) & ~data.x[:,1].to(bool).cpu())\n",
    "    ###\n",
    "    df_cf = np.where(condition)[0].tolist()\n",
    "\n",
    "    print(len(df_cf))\n",
    "    \n",
    "    explainer = Explainer(\n",
    "        model=model,\n",
    "        algorithm=explainer,\n",
    "        explanation_type='model',\n",
    "        node_mask_type=None,\n",
    "        edge_mask_type='object',\n",
    "        model_config=dict(\n",
    "            mode='multiclass_classification',\n",
    "            task_level='node',\n",
    "            return_type='raw',\n",
    "        ), \n",
    "    )\n",
    "    \n",
    "    # cfs = []\n",
    "    num_perturbs = []\n",
    "    prop_perturbs = []\n",
    "\n",
    "    for i in tqdm(df_cf):\n",
    "        explanation = explainer(data.x, data.edge_index, index=i)\n",
    "        \n",
    "        if hasattr(explanation, \"perturbs\"):\n",
    "            if explanation.perturbs < 20:\n",
    "                # cfs.append(explanation.cf)\n",
    "                num_perturbs.append(explanation.perturbs)\n",
    "                prop_perturbs.append(explanation.prop_perturbs)\n",
    "    \n",
    "    size, prop = results(num_perturbs, prop_perturbs)\n",
    "    \n",
    "    result.append([len(df_cf), size, len(num_perturbs), prop])\n",
    "    print(f\"Fedility: {len(num_perturbs)/len(df_cf)}, Num_perturbs: {size}, Similarity: {1-prop}\")\n",
    "    return result\n",
    "\n",
    "explainer = C2Explainer(epochs=1000, lr=0.001, silent_mode=True, undirected=True, AR_mode=True)\n",
    "result4 = explain(model, data, explainer, seed=42)"
   ]
  },
  {
   "cell_type": "markdown",
   "id": "fe8c976e-260a-4cf2-ab66-df4a8275a661",
   "metadata": {},
   "source": [
    "# Biased model"
   ]
  },
  {
   "cell_type": "code",
   "execution_count": 6,
   "id": "25180eab-e4d5-4791-a49f-1c353617e301",
   "metadata": {
    "tags": []
   },
   "outputs": [
    {
     "name": "stdout",
     "output_type": "stream",
     "text": [
      "118\n"
     ]
    },
    {
     "data": {
      "application/vnd.jupyter.widget-view+json": {
       "model_id": "077789fe195a4f4395c9e2ef28d0e30c",
       "version_major": 2,
       "version_minor": 0
      },
      "text/plain": [
       "  0%|          | 0/118 [00:00<?, ?it/s]"
      ]
     },
     "metadata": {},
     "output_type": "display_data"
    },
    {
     "name": "stdout",
     "output_type": "stream",
     "text": [
      "######\n",
      "size: 1.6395348837209303, num_success: 86, prop_perturbs: 0.007888738997280598\n",
      "finished\n",
      "Fedility: 0.7288135593220338, Num_perturbs: 1.6395348837209303, Similarity: 0.9921112656593323\n"
     ]
    }
   ],
   "source": [
    "def explain(model, data, explainer, seed=42):\n",
    "    seed_everything(seed, deterministic=True)\n",
    "    result = []\n",
    "    \n",
    "    ###\n",
    "    # only gender = 1\n",
    "    condition = ((data.test_mask.cpu() | data.val_mask.cpu()) & data.x[:,1].to(bool).cpu())\n",
    "    ###\n",
    "    df_cf = np.where(condition)[0].tolist()\n",
    "\n",
    "    print(len(df_cf))\n",
    "    \n",
    "    explainer = Explainer(\n",
    "        model=model,\n",
    "        algorithm=explainer,\n",
    "        explanation_type='model',\n",
    "        node_mask_type=None,\n",
    "        edge_mask_type='object',\n",
    "        model_config=dict(\n",
    "            mode='multiclass_classification',\n",
    "            task_level='node',\n",
    "            return_type='raw',\n",
    "        ), \n",
    "    )\n",
    "    \n",
    "    # cfs = []\n",
    "    num_perturbs = []\n",
    "    prop_perturbs = []\n",
    "\n",
    "    for i in tqdm(df_cf):\n",
    "        explanation = explainer(data.x, data.edge_index, index=i)\n",
    "        \n",
    "        if hasattr(explanation, \"perturbs\"):\n",
    "            if explanation.perturbs < 20:\n",
    "                # cfs.append(explanation.cf)\n",
    "                num_perturbs.append(explanation.perturbs)\n",
    "                prop_perturbs.append(explanation.prop_perturbs)\n",
    "    \n",
    "    size, prop = results(num_perturbs, prop_perturbs)\n",
    "    \n",
    "    result.append([len(df_cf), size, len(num_perturbs), prop])\n",
    "    print(f\"Fedility: {len(num_perturbs)/len(df_cf)}, Num_perturbs: {size}, Similarity: {1-prop}\")\n",
    "    return result\n",
    "\n",
    "model = GCN(nhid=100, nout=20, dropout=0).to(device)\n",
    "model.load_state_dict(torch.load(\"../models/Biased_GCN_LoanDecision_sd.pt\", weights_only=True))\n",
    "\n",
    "explainer = C2Explainer(epochs=1000, lr=0.001, silent_mode=True, undirected=True, AR_mode=True)\n",
    "result4 = explain(model, data, explainer, seed=42)"
   ]
  },
  {
   "cell_type": "code",
   "execution_count": 7,
   "id": "ad2af802-c061-4dc9-b117-74ebdf0f13f4",
   "metadata": {
    "tags": []
   },
   "outputs": [
    {
     "name": "stdout",
     "output_type": "stream",
     "text": [
      "82\n"
     ]
    },
    {
     "data": {
      "application/vnd.jupyter.widget-view+json": {
       "model_id": "fc346c15ae104e5b893487d89f5c8a6f",
       "version_major": 2,
       "version_minor": 0
      },
      "text/plain": [
       "  0%|          | 0/82 [00:00<?, ?it/s]"
      ]
     },
     "metadata": {},
     "output_type": "display_data"
    },
    {
     "name": "stdout",
     "output_type": "stream",
     "text": [
      "######\n",
      "size: 2.74468085106383, num_success: 47, prop_perturbs: 0.016860580071806908\n",
      "finished\n",
      "Fedility: 0.573170731707317, Num_perturbs: 2.74468085106383, Similarity: 0.9831393957138062\n"
     ]
    }
   ],
   "source": [
    "def explain(model, data, explainer, seed=42):\n",
    "    seed_everything(seed, deterministic=True)\n",
    "    result = []\n",
    "    \n",
    "    ###\n",
    "    # only gender = 0\n",
    "    condition = ((data.test_mask.cpu() | data.val_mask.cpu()) & ~data.x[:,1].to(bool).cpu())\n",
    "    ###\n",
    "    df_cf = np.where(condition)[0].tolist()\n",
    "\n",
    "    print(len(df_cf))\n",
    "    \n",
    "    explainer = Explainer(\n",
    "        model=model,\n",
    "        algorithm=explainer,\n",
    "        explanation_type='model',\n",
    "        node_mask_type=None,\n",
    "        edge_mask_type='object',\n",
    "        model_config=dict(\n",
    "            mode='multiclass_classification',\n",
    "            task_level='node',\n",
    "            return_type='raw',\n",
    "        ), \n",
    "    )\n",
    "    \n",
    "    # cfs = []\n",
    "    num_perturbs = []\n",
    "    prop_perturbs = []\n",
    "\n",
    "    for i in tqdm(df_cf):\n",
    "        explanation = explainer(data.x, data.edge_index, index=i)\n",
    "        \n",
    "        if hasattr(explanation, \"perturbs\"):\n",
    "            if explanation.perturbs < 20:\n",
    "                # cfs.append(explanation.cf)\n",
    "                num_perturbs.append(explanation.perturbs)\n",
    "                prop_perturbs.append(explanation.prop_perturbs)\n",
    "    \n",
    "    size, prop = results(num_perturbs, prop_perturbs)\n",
    "    \n",
    "    result.append([len(df_cf), size, len(num_perturbs), prop])\n",
    "    print(f\"Fedility: {len(num_perturbs)/len(df_cf)}, Num_perturbs: {size}, Similarity: {1-prop}\")\n",
    "    return result\n",
    "\n",
    "model = GCN(nhid=100, nout=20, dropout=0).to(device)\n",
    "model.load_state_dict(torch.load(\"../models/Biased_GCN_LoanDecision_sd.pt\", weights_only=True))\n",
    "\n",
    "explainer = C2Explainer(epochs=1000, lr=0.001, silent_mode=True, undirected=True, AR_mode=True)\n",
    "result4 = explain(model, data, explainer, seed=42)"
   ]
  },
  {
   "cell_type": "code",
   "execution_count": null,
   "id": "fe8f0a91-ca90-47b3-ab7c-19e94037f761",
   "metadata": {},
   "outputs": [],
   "source": []
  }
 ],
 "metadata": {
  "kernelspec": {
   "display_name": "pyg",
   "language": "python",
   "name": "pyg"
  },
  "language_info": {
   "codemirror_mode": {
    "name": "ipython",
    "version": 3
   },
   "file_extension": ".py",
   "mimetype": "text/x-python",
   "name": "python",
   "nbconvert_exporter": "python",
   "pygments_lexer": "ipython3",
   "version": "3.10.18"
  }
 },
 "nbformat": 4,
 "nbformat_minor": 5
}
