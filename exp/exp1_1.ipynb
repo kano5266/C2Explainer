{
 "cells": [
  {
   "cell_type": "code",
   "execution_count": 1,
   "id": "75750720-6a58-449b-8b50-ef4b89b5aaac",
   "metadata": {},
   "outputs": [
    {
     "name": "stdout",
     "output_type": "stream",
     "text": [
      "env: CUBLAS_WORKSPACE_CONFIG=:4096:8\n",
      "PyTorch version: 2.0.1\n",
      "PyTorch device: cuda\n"
     ]
    }
   ],
   "source": [
    "import sys\n",
    "sys.path.append('../src')\n",
    "\n",
    "import pickle\n",
    "\n",
    "import torch\n",
    "import torch.nn.functional as F\n",
    "import random\n",
    "\n",
    "from cf_explainer.gcn_conv import GCNConv\n",
    "from torch.nn import Linear, Sequential, BatchNorm1d, ReLU\n",
    "import torch_geometric\n",
    "from torch_geometric.explain import Explainer\n",
    "from cf_explainer import C2Explainer\n",
    "from cf_explainer.utils import seed_everything\n",
    "\n",
    "import numpy as np\n",
    "\n",
    "import networkx as nx\n",
    "from pyvis.network import Network\n",
    "\n",
    "from tqdm.auto import tqdm\n",
    "\n",
    "import pickle\n",
    "\n",
    "'''Config parameters'''\n",
    "use_cuda_if_available = True\n",
    "device = torch.device('cuda' if torch.cuda.is_available() and use_cuda_if_available else 'cpu')\n",
    "\n",
    "%env CUBLAS_WORKSPACE_CONFIG=:4096:8\n",
    "\n",
    "print(\"PyTorch version:\", torch.__version__)\n",
    "print(\"PyTorch device:\", device)"
   ]
  },
  {
   "cell_type": "code",
   "execution_count": 2,
   "id": "e638ff49-64f2-4968-9206-7b1bf8183505",
   "metadata": {
    "tags": []
   },
   "outputs": [],
   "source": [
    "def results(num_perturbs, prop_perturbs):\n",
    "    print(\"######\")\n",
    "    if len(num_perturbs) != 0:\n",
    "        size = sum(num_perturbs)/(2*len(num_perturbs))\n",
    "        prop = sum(prop_perturbs)/len(prop_perturbs)\n",
    "    else:\n",
    "        size = \"N/A\"\n",
    "        prop = \"N/A\"\n",
    "    print(f\"size: {size}, num_success: {len(num_perturbs)}, prop_perturbs: {prop}\")\n",
    "    print(\"finished\")\n",
    "    return size, prop\n",
    "\n",
    "\n",
    "def explain(model, data, explainer, seed=42):\n",
    "    seed_everything(seed, deterministic=True)\n",
    "    result = []\n",
    "    \n",
    "    condition = (data.test_mask.cpu() | data.val_mask.cpu())\n",
    "    df_cf = np.where(condition)[0].tolist()\n",
    "\n",
    "    print(len(df_cf))\n",
    "    \n",
    "    explainer = Explainer(\n",
    "        model=model,\n",
    "        algorithm=explainer,\n",
    "        explanation_type='model',\n",
    "        node_mask_type=None,\n",
    "        edge_mask_type='object',\n",
    "        model_config=dict(\n",
    "            mode='multiclass_classification',\n",
    "            task_level='node',\n",
    "            return_type='raw',\n",
    "        ), \n",
    "    )\n",
    "    \n",
    "    # cfs = []\n",
    "    num_perturbs = []\n",
    "    prop_perturbs = []\n",
    "\n",
    "    for i in tqdm(df_cf):\n",
    "        explanation = explainer(data.x, data.edge_index, index=i)\n",
    "        \n",
    "        if hasattr(explanation, \"perturbs\"):\n",
    "            if explanation.perturbs < 20:\n",
    "                # cfs.append(explanation.cf)\n",
    "                num_perturbs.append(explanation.perturbs)\n",
    "                prop_perturbs.append(explanation.prop_perturbs)\n",
    "    \n",
    "    size, prop = results(num_perturbs, prop_perturbs)\n",
    "    \n",
    "    result.append([len(df_cf), size, len(num_perturbs), prop])\n",
    "    print(f\"Fedility: {len(num_perturbs)/len(df_cf)}, Num_perturbs: {size}, Similarity: {1-prop}\")\n",
    "    return result"
   ]
  },
  {
   "cell_type": "markdown",
   "id": "b578d461-b251-4b59-ab22-c4721adfbb9a",
   "metadata": {},
   "source": [
    "# GCN + BAShapes"
   ]
  },
  {
   "cell_type": "code",
   "execution_count": 3,
   "id": "3e496bf9-c1be-46af-b540-e492a900f966",
   "metadata": {},
   "outputs": [
    {
     "name": "stderr",
     "output_type": "stream",
     "text": [
      "/home/ymmt4090no1/miniconda3/envs/pyg/lib/python3.10/site-packages/torch/_utils.py:776: UserWarning: TypedStorage is deprecated. It will be removed in the future and UntypedStorage will be the only storage class. This should only matter to you if you are using storages directly.  To access UntypedStorage directly, use tensor.untyped_storage() instead of tensor.storage()\n",
      "  return self.fget.__get__(instance, owner)()\n"
     ]
    }
   ],
   "source": [
    "class GCN(torch.nn.Module):\n",
    "    def __init__(self, nhid, nout, dropout):\n",
    "        super().__init__()\n",
    "        self.conv1 = GCNConv(10, nhid, normalize=False)\n",
    "        self.conv2 = GCNConv(nhid, nhid, normalize=False)\n",
    "        self.conv3 = GCNConv(nhid, nout, normalize=False)\n",
    "        self.lin = Linear(nout,4)\n",
    "        self.dropout = dropout\n",
    "\n",
    "    def forward(self, x, edge_index, edge_weight=None):\n",
    "        x = self.conv1(x, edge_index, edge_weight)\n",
    "        x = x.relu()\n",
    "        x = F.dropout(x, p=self.dropout, training=self.training)\n",
    "        x = self.conv2(x, edge_index, edge_weight)\n",
    "        x = x.relu()\n",
    "        x = F.dropout(x, p=self.dropout, training=self.training)\n",
    "        x = self.conv3(x, edge_index, edge_weight)\n",
    "        x = self.lin(x)\n",
    "        return x\n",
    "\n",
    "model = GCN(nhid=100, nout=20, dropout=0).to(device)\n",
    "model.load_state_dict(torch.load(\"../models/GCN_BAShapes_sd.pt\", weights_only=True))\n",
    "\n",
    "with open(\"../data/BAShapes.pickle\", \"rb\") as f:\n",
    "\tdata = pickle.load(f)"
   ]
  },
  {
   "cell_type": "code",
   "execution_count": 4,
   "id": "ecd47058-17a5-4d06-9a72-2cf7166ec334",
   "metadata": {
    "tags": []
   },
   "outputs": [
    {
     "name": "stdout",
     "output_type": "stream",
     "text": [
      "140\n"
     ]
    },
    {
     "data": {
      "application/vnd.jupyter.widget-view+json": {
       "model_id": "88cd30359b4046c1a902ca95fca0c3a1",
       "version_major": 2,
       "version_minor": 0
      },
      "text/plain": [
       "  0%|          | 0/140 [00:00<?, ?it/s]"
      ]
     },
     "metadata": {},
     "output_type": "display_data"
    },
    {
     "name": "stdout",
     "output_type": "stream",
     "text": [
      "######\n",
      "size: 2.1769230769230767, num_success: 130, prop_perturbs: 0.04377417266368866\n",
      "finished\n",
      "Fedility: 0.9285714285714286, Num_perturbs: 2.1769230769230767, Similarity: 0.9562258124351501\n",
      "CPU times: user 19min 6s, sys: 994 ms, total: 19min 7s\n",
      "Wall time: 19min 7s\n"
     ]
    }
   ],
   "source": [
    "%%time\n",
    "explainer = C2Explainer(epochs=1000, lr=0.1, silent_mode=True, undirected=True)\n",
    "\n",
    "result1 = explain(model, data, explainer, seed=42)"
   ]
  },
  {
   "cell_type": "markdown",
   "id": "56a78d69-ec1f-4679-aeb3-32ed1e02b8ce",
   "metadata": {},
   "source": [
    "# GCN + TreeCycle"
   ]
  },
  {
   "cell_type": "code",
   "execution_count": 5,
   "id": "7e00efaa-fd00-42d7-806e-d4ded5c27d9e",
   "metadata": {},
   "outputs": [
    {
     "data": {
      "text/plain": [
       "Data(x=[871, 10], edge_index=[2, 1940], y=[871], train_mask=[871], val_mask=[871], test_mask=[871])"
      ]
     },
     "execution_count": 5,
     "metadata": {},
     "output_type": "execute_result"
    }
   ],
   "source": [
    "class GCN(torch.nn.Module):\n",
    "    def __init__(self, nhid, nout, dropout):\n",
    "        super().__init__()\n",
    "        self.conv1 = GCNConv(10, nhid, normalize=False)\n",
    "        self.conv2 = GCNConv(nhid, nhid, normalize=False)\n",
    "        self.conv3 = GCNConv(nhid, nout, normalize=False)\n",
    "        self.lin = Linear(nout,2)\n",
    "        self.dropout = dropout\n",
    "\n",
    "    def forward(self, x, edge_index, edge_weight=None):\n",
    "        x = self.conv1(x, edge_index, edge_weight)\n",
    "        x = x.relu()\n",
    "        x = F.dropout(x, p=self.dropout, training=self.training)\n",
    "        x = self.conv2(x, edge_index, edge_weight)\n",
    "        x = x.relu()\n",
    "        x = F.dropout(x, p=self.dropout, training=self.training)\n",
    "        x = self.conv3(x, edge_index, edge_weight)\n",
    "        x = self.lin(x)\n",
    "        return x\n",
    "    \n",
    "model = GCN(nhid=100, nout=20, dropout=0).to(device)\n",
    "model.load_state_dict(torch.load(\"../models/GCN_TreeCycle_sd.pt\", weights_only=True))\n",
    "\n",
    "with open(\"../data/TreeCycle.pickle\", \"rb\") as f:\n",
    "\tdata = pickle.load(f)\n",
    "    \n",
    "data"
   ]
  },
  {
   "cell_type": "code",
   "execution_count": 6,
   "id": "3332f710-adbf-41c2-b413-af630d1fa428",
   "metadata": {
    "tags": []
   },
   "outputs": [
    {
     "name": "stdout",
     "output_type": "stream",
     "text": [
      "174\n"
     ]
    },
    {
     "data": {
      "application/vnd.jupyter.widget-view+json": {
       "model_id": "82c03b4776574ab6bb21bb7adc8ae29d",
       "version_major": 2,
       "version_minor": 0
      },
      "text/plain": [
       "  0%|          | 0/174 [00:00<?, ?it/s]"
      ]
     },
     "metadata": {},
     "output_type": "display_data"
    },
    {
     "name": "stdout",
     "output_type": "stream",
     "text": [
      "######\n",
      "size: 1.5722543352601157, num_success: 173, prop_perturbs: 0.17268018424510956\n",
      "finished\n",
      "Fedility: 0.9942528735632183, Num_perturbs: 1.5722543352601157, Similarity: 0.8273198008537292\n",
      "CPU times: user 8min 6s, sys: 888 ms, total: 8min 7s\n",
      "Wall time: 8min 18s\n"
     ]
    }
   ],
   "source": [
    "%%time\n",
    "explainer = C2Explainer(epochs=1000, lr=0.1, silent_mode=True, undirected=True)\n",
    "\n",
    "result2 = explain(model, data, explainer, seed=42)"
   ]
  },
  {
   "cell_type": "markdown",
   "id": "8681a137-52f6-4f69-b10b-23e357485144",
   "metadata": {},
   "source": [
    "# GCN + TreeGrid"
   ]
  },
  {
   "cell_type": "code",
   "execution_count": 7,
   "id": "dc350b3a-842e-4cfd-b58c-015b72bf23ae",
   "metadata": {},
   "outputs": [
    {
     "data": {
      "text/plain": [
       "Data(x=[1231, 10], edge_index=[2, 3410], y=[1231], train_mask=[1231], val_mask=[1231], test_mask=[1231])"
      ]
     },
     "execution_count": 7,
     "metadata": {},
     "output_type": "execute_result"
    }
   ],
   "source": [
    "class GCN(torch.nn.Module):\n",
    "    def __init__(self, nhid, nout, dropout):\n",
    "        super().__init__()\n",
    "        self.conv1 = GCNConv(10, nhid, normalize=False)\n",
    "        self.conv2 = GCNConv(nhid, nhid, normalize=False)\n",
    "        self.conv3 = GCNConv(nhid, nout, normalize=False)\n",
    "        self.lin = Linear(nout,2)\n",
    "        self.dropout = dropout\n",
    "\n",
    "    def forward(self, x, edge_index, edge_weight=None):\n",
    "        x = self.conv1(x, edge_index, edge_weight)\n",
    "        x = x.relu()\n",
    "        x = F.dropout(x, p=self.dropout, training=self.training)\n",
    "        x = self.conv2(x, edge_index, edge_weight)\n",
    "        x = x.relu()\n",
    "        x = F.dropout(x, p=self.dropout, training=self.training)\n",
    "        x = self.conv3(x, edge_index, edge_weight)\n",
    "        x = self.lin(x)\n",
    "        return x\n",
    "    \n",
    "model = GCN(nhid=100, nout=20, dropout=0).to(device)\n",
    "model.load_state_dict(torch.load(\"../models/GCN_TreeGrid_sd.pt\", weights_only=True))\n",
    "\n",
    "with open(\"../data/TreeGrid.pickle\", \"rb\") as f:\n",
    "\tdata = pickle.load(f)\n",
    "    \n",
    "data"
   ]
  },
  {
   "cell_type": "code",
   "execution_count": 8,
   "id": "9061849e-d4f9-489a-baaf-e7fe39b76294",
   "metadata": {
    "tags": []
   },
   "outputs": [
    {
     "name": "stdout",
     "output_type": "stream",
     "text": [
      "246\n"
     ]
    },
    {
     "data": {
      "application/vnd.jupyter.widget-view+json": {
       "model_id": "5a71be3f16814e07963a56ac9b9ead19",
       "version_major": 2,
       "version_minor": 0
      },
      "text/plain": [
       "  0%|          | 0/246 [00:00<?, ?it/s]"
      ]
     },
     "metadata": {},
     "output_type": "display_data"
    },
    {
     "name": "stdout",
     "output_type": "stream",
     "text": [
      "######\n",
      "size: 1.3264462809917354, num_success: 242, prop_perturbs: 0.09218555688858032\n",
      "finished\n",
      "Fedility: 0.983739837398374, Num_perturbs: 1.3264462809917354, Similarity: 0.9078144431114197\n",
      "CPU times: user 11min 36s, sys: 1.4 s, total: 11min 37s\n",
      "Wall time: 11min 54s\n"
     ]
    }
   ],
   "source": [
    "%%time\n",
    "explainer = C2Explainer(epochs=1000, lr=0.1, silent_mode=True, undirected=True)\n",
    "\n",
    "result3 = explain(model, data, explainer, seed=42)"
   ]
  },
  {
   "cell_type": "markdown",
   "id": "2495415b-f156-4654-be64-3d879b975048",
   "metadata": {},
   "source": [
    "# GCN + LoanDecision"
   ]
  },
  {
   "cell_type": "code",
   "execution_count": 10,
   "id": "3c01a388-d22a-4356-a3e6-f09c57224bed",
   "metadata": {},
   "outputs": [
    {
     "data": {
      "text/plain": [
       "Data(edge_index=[2, 3950], num_nodes=1000, x=[1000, 2], y=[1000], train_mask=[1000], val_mask=[1000], test_mask=[1000])"
      ]
     },
     "execution_count": 10,
     "metadata": {},
     "output_type": "execute_result"
    }
   ],
   "source": [
    "class GCN(torch.nn.Module):\n",
    "    def __init__(self, nhid, nout, dropout):\n",
    "        super().__init__()\n",
    "        self.conv1 = GCNConv(2, nhid, normalize=True)\n",
    "        self.conv2 = GCNConv(nhid, nhid, normalize=True)\n",
    "        self.conv3 = GCNConv(nhid, nout, normalize=True)\n",
    "        self.lin1 = Linear(nout, nout)\n",
    "        self.lin2 = Linear(nout,2)\n",
    "        self.dropout = dropout\n",
    "\n",
    "    def forward(self, x, edge_index, edge_weight=None):\n",
    "        x = self.conv1(x, edge_index, edge_weight)\n",
    "        x = x.relu()\n",
    "        x = F.dropout(x, p=self.dropout, training=self.training)\n",
    "        x = self.conv2(x, edge_index, edge_weight)\n",
    "        x = x.relu()\n",
    "        x = F.dropout(x, p=self.dropout, training=self.training)\n",
    "        x = self.conv3(x, edge_index, edge_weight)\n",
    "        x = self.lin1(x)\n",
    "        x = x.relu()\n",
    "        x = F.dropout(x, p=self.dropout, training=self.training)\n",
    "        x = self.lin2(x)\n",
    "        return x\n",
    "\n",
    "model = GCN(nhid=100, nout=20, dropout=0).to(device)\n",
    "model.load_state_dict(torch.load(\"../models/GCN_LoanDecision_sd.pt\", weights_only=True))\n",
    "\n",
    "with open(\"../data/LoanDecision.pickle\", \"rb\") as f:\n",
    "\tdata = pickle.load(f)\n",
    "    \n",
    "data"
   ]
  },
  {
   "cell_type": "code",
   "execution_count": 11,
   "id": "1ae3c7b5-73e8-4ec7-913c-a8d49971fdfc",
   "metadata": {
    "tags": []
   },
   "outputs": [
    {
     "name": "stdout",
     "output_type": "stream",
     "text": [
      "200\n"
     ]
    },
    {
     "data": {
      "application/vnd.jupyter.widget-view+json": {
       "model_id": "ecb531203e5c4b65a650061f1b533643",
       "version_major": 2,
       "version_minor": 0
      },
      "text/plain": [
       "  0%|          | 0/200 [00:00<?, ?it/s]"
      ]
     },
     "metadata": {},
     "output_type": "display_data"
    },
    {
     "name": "stdout",
     "output_type": "stream",
     "text": [
      "######\n",
      "size: 1.2043010752688172, num_success: 186, prop_perturbs: 0.006940612103790045\n",
      "finished\n",
      "Fedility: 0.93, Num_perturbs: 1.2043010752688172, Similarity: 0.9930593967437744\n",
      "CPU times: user 46min 20s, sys: 1.5 s, total: 46min 22s\n",
      "Wall time: 46min 19s\n"
     ]
    }
   ],
   "source": [
    "%%time\n",
    "explainer = C2Explainer(epochs=1000, lr=0.1, silent_mode=True, undirected=True)\n",
    "\n",
    "result4 = explain(model, data, explainer, seed=42)"
   ]
  },
  {
   "cell_type": "code",
   "execution_count": null,
   "id": "282eb739-2677-48cc-a029-459fdd60ab85",
   "metadata": {},
   "outputs": [],
   "source": []
  }
 ],
 "metadata": {
  "kernelspec": {
   "display_name": "pyg",
   "language": "python",
   "name": "pyg"
  },
  "language_info": {
   "codemirror_mode": {
    "name": "ipython",
    "version": 3
   },
   "file_extension": ".py",
   "mimetype": "text/x-python",
   "name": "python",
   "nbconvert_exporter": "python",
   "pygments_lexer": "ipython3",
   "version": "3.10.18"
  }
 },
 "nbformat": 4,
 "nbformat_minor": 5
}
